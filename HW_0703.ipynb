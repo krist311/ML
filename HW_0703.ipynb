{
 "cells": [
  {
   "cell_type": "code",
   "execution_count": 59,
   "metadata": {
    "collapsed": true
   },
   "outputs": [],
   "source": [
    "import numpy as np\n",
    "import matplotlib.pyplot as plt\n",
    "import pandas as pd\n",
    "%matplotlib inline"
   ]
  },
  {
   "cell_type": "code",
   "execution_count": 60,
   "metadata": {},
   "outputs": [
    {
     "data": {
      "text/html": [
       "<div>\n",
       "<style>\n",
       "    .dataframe thead tr:only-child th {\n",
       "        text-align: right;\n",
       "    }\n",
       "\n",
       "    .dataframe thead th {\n",
       "        text-align: left;\n",
       "    }\n",
       "\n",
       "    .dataframe tbody tr th {\n",
       "        vertical-align: top;\n",
       "    }\n",
       "</style>\n",
       "<table border=\"1\" class=\"dataframe\">\n",
       "  <thead>\n",
       "    <tr style=\"text-align: right;\">\n",
       "      <th></th>\n",
       "      <th>0</th>\n",
       "      <th>1</th>\n",
       "      <th>2</th>\n",
       "      <th>3</th>\n",
       "      <th>4</th>\n",
       "      <th>5</th>\n",
       "      <th>6</th>\n",
       "      <th>7</th>\n",
       "      <th>8</th>\n",
       "      <th>9</th>\n",
       "    </tr>\n",
       "  </thead>\n",
       "  <tbody>\n",
       "    <tr>\n",
       "      <th>0</th>\n",
       "      <td>120.3882</td>\n",
       "      <td>67.1368</td>\n",
       "      <td>3.6905</td>\n",
       "      <td>0.1128</td>\n",
       "      <td>0.0481</td>\n",
       "      <td>-155.5746</td>\n",
       "      <td>35.3004</td>\n",
       "      <td>47.8095</td>\n",
       "      <td>3.8760</td>\n",
       "      <td>289.0430</td>\n",
       "    </tr>\n",
       "    <tr>\n",
       "      <th>1</th>\n",
       "      <td>28.5322</td>\n",
       "      <td>15.1782</td>\n",
       "      <td>2.6686</td>\n",
       "      <td>0.4306</td>\n",
       "      <td>0.2399</td>\n",
       "      <td>30.9627</td>\n",
       "      <td>21.7936</td>\n",
       "      <td>21.9248</td>\n",
       "      <td>62.7504</td>\n",
       "      <td>254.0526</td>\n",
       "    </tr>\n",
       "    <tr>\n",
       "      <th>2</th>\n",
       "      <td>38.8799</td>\n",
       "      <td>21.5881</td>\n",
       "      <td>3.0573</td>\n",
       "      <td>0.2025</td>\n",
       "      <td>0.1047</td>\n",
       "      <td>18.7566</td>\n",
       "      <td>-24.0106</td>\n",
       "      <td>11.6233</td>\n",
       "      <td>0.7040</td>\n",
       "      <td>185.2510</td>\n",
       "    </tr>\n",
       "    <tr>\n",
       "      <th>3</th>\n",
       "      <td>28.8255</td>\n",
       "      <td>16.7964</td>\n",
       "      <td>2.6642</td>\n",
       "      <td>0.3402</td>\n",
       "      <td>0.1701</td>\n",
       "      <td>3.6149</td>\n",
       "      <td>-18.2080</td>\n",
       "      <td>9.8634</td>\n",
       "      <td>2.4949</td>\n",
       "      <td>213.1690</td>\n",
       "    </tr>\n",
       "    <tr>\n",
       "      <th>4</th>\n",
       "      <td>20.7522</td>\n",
       "      <td>8.9492</td>\n",
       "      <td>2.3874</td>\n",
       "      <td>0.6434</td>\n",
       "      <td>0.3586</td>\n",
       "      <td>24.0649</td>\n",
       "      <td>10.5927</td>\n",
       "      <td>1.8768</td>\n",
       "      <td>36.3060</td>\n",
       "      <td>126.3930</td>\n",
       "    </tr>\n",
       "  </tbody>\n",
       "</table>\n",
       "</div>"
      ],
      "text/plain": [
       "          0        1       2       3       4         5        6        7  \\\n",
       "0  120.3882  67.1368  3.6905  0.1128  0.0481 -155.5746  35.3004  47.8095   \n",
       "1   28.5322  15.1782  2.6686  0.4306  0.2399   30.9627  21.7936  21.9248   \n",
       "2   38.8799  21.5881  3.0573  0.2025  0.1047   18.7566 -24.0106  11.6233   \n",
       "3   28.8255  16.7964  2.6642  0.3402  0.1701    3.6149 -18.2080   9.8634   \n",
       "4   20.7522   8.9492  2.3874  0.6434  0.3586   24.0649  10.5927   1.8768   \n",
       "\n",
       "         8         9  \n",
       "0   3.8760  289.0430  \n",
       "1  62.7504  254.0526  \n",
       "2   0.7040  185.2510  \n",
       "3   2.4949  213.1690  \n",
       "4  36.3060  126.3930  "
      ]
     },
     "execution_count": 60,
     "metadata": {},
     "output_type": "execute_result"
    }
   ],
   "source": [
    "X = pd.read_csv('train.txt', sep=\" \", header = None)\n",
    "X.head()"
   ]
  },
  {
   "cell_type": "code",
   "execution_count": 61,
   "metadata": {},
   "outputs": [
    {
     "data": {
      "text/html": [
       "<div>\n",
       "<style>\n",
       "    .dataframe thead tr:only-child th {\n",
       "        text-align: right;\n",
       "    }\n",
       "\n",
       "    .dataframe thead th {\n",
       "        text-align: left;\n",
       "    }\n",
       "\n",
       "    .dataframe tbody tr th {\n",
       "        vertical-align: top;\n",
       "    }\n",
       "</style>\n",
       "<table border=\"1\" class=\"dataframe\">\n",
       "  <thead>\n",
       "    <tr style=\"text-align: right;\">\n",
       "      <th></th>\n",
       "      <th>0</th>\n",
       "    </tr>\n",
       "  </thead>\n",
       "  <tbody>\n",
       "    <tr>\n",
       "      <th>0</th>\n",
       "      <td>1</td>\n",
       "    </tr>\n",
       "    <tr>\n",
       "      <th>1</th>\n",
       "      <td>1</td>\n",
       "    </tr>\n",
       "    <tr>\n",
       "      <th>2</th>\n",
       "      <td>0</td>\n",
       "    </tr>\n",
       "    <tr>\n",
       "      <th>3</th>\n",
       "      <td>0</td>\n",
       "    </tr>\n",
       "    <tr>\n",
       "      <th>4</th>\n",
       "      <td>1</td>\n",
       "    </tr>\n",
       "  </tbody>\n",
       "</table>\n",
       "</div>"
      ],
      "text/plain": [
       "   0\n",
       "0  1\n",
       "1  1\n",
       "2  0\n",
       "3  0\n",
       "4  1"
      ]
     },
     "execution_count": 61,
     "metadata": {},
     "output_type": "execute_result"
    }
   ],
   "source": [
    "y = pd.read_csv('train_labels.txt', sep=\" \", header = None)\n",
    "y.head()"
   ]
  },
  {
   "cell_type": "code",
   "execution_count": 62,
   "metadata": {},
   "outputs": [],
   "source": [
    "X = (X - X.mean(axis = 0))/X.std(axis = 0)\n",
    "y=y[0]"
   ]
  },
  {
   "cell_type": "code",
   "execution_count": 63,
   "metadata": {},
   "outputs": [],
   "source": [
    "from sklearn.model_selection import train_test_split\n",
    "X_train, X_test, y_train, y_test = train_test_split(X, y, test_size = 0.3, random_state = 1)"
   ]
  },
  {
   "cell_type": "markdown",
   "metadata": {},
   "source": [
    "# KNN"
   ]
  },
  {
   "cell_type": "code",
   "execution_count": 64,
   "metadata": {},
   "outputs": [
    {
     "name": "stdout",
     "output_type": "stream",
     "text": [
      "[ 0.17788141  0.16655563  0.17133333  0.17533333  0.17333333  0.18933333\n",
      "  0.16333333  0.172       0.17144763  0.16544363]\n",
      "0.172599496948+-0.0140402024802\n"
     ]
    }
   ],
   "source": [
    "from sklearn.model_selection import cross_val_score\n",
    "model = KNeighborsClassifier(n_neighbors = 4)\n",
    "CV_scores = cross_val_score(model, X, y, cv = 10)\n",
    "print(str(1-CV_scores))\n",
    "print(str(1-CV_scores.mean())  + \"+-\"+ str((1-CV_scores).std() * 2))"
   ]
  },
  {
   "cell_type": "markdown",
   "metadata": {},
   "source": [
    "# SVM"
   ]
  },
  {
   "cell_type": "code",
   "execution_count": 65,
   "metadata": {},
   "outputs": [
    {
     "name": "stdout",
     "output_type": "stream",
     "text": [
      "[ 0.85742838  0.8667555   0.87266667  0.85533333  0.86533333  0.85266667\n",
      "  0.874       0.87        0.8712475   0.87791861]\n",
      "Accuracy:0.866334998816+-0.0162352109749\n",
      "Error:0.133665001184+-0.0162352109749\n"
     ]
    }
   ],
   "source": [
    "from sklearn.svm import SVC # \"Support Vector Classifier\"\n",
    "svc_model = SVC(kernel = 'rbf')\n",
    "scores = cross_val_score(svc_model, X, y, cv = 10)\n",
    "print(scores)\n",
    "print(\"Accuracy:\" + str(scores.mean()) +\"+-\" + str(scores.std() * 2))\n",
    "print(\"Error:\" + str(1 - scores.mean())+ \"+-\" + str(scores.std() * 2))"
   ]
  },
  {
   "cell_type": "markdown",
   "metadata": {},
   "source": [
    "# Gradient Boosting Trees"
   ]
  },
  {
   "cell_type": "code",
   "execution_count": 66,
   "metadata": {},
   "outputs": [
    {
     "name": "stdout",
     "output_type": "stream",
     "text": [
      "[ 0.87208528  0.87941372  0.86866667  0.862       0.86866667  0.85866667\n",
      "  0.87733333  0.876       0.8712475   0.87991995]\n",
      "Accuracy:0.871399977896+-0.0135514806711\n",
      "Error:0.128600022104+-0.0135514806711\n"
     ]
    }
   ],
   "source": [
    "from sklearn.ensemble import GradientBoostingClassifier\n",
    "\n",
    "clf = GradientBoostingClassifier(learning_rate=0.1, n_estimators=100,  max_depth=3, subsample=1.0)\n",
    "clf = clf.fit(X_train, y_train)\n",
    "scores = cross_val_score(clf, X, y, cv = 10)\n",
    "print(scores)\n",
    "print(\"Accuracy:\" + str(scores.mean()) +\"+-\" + str(scores.std() * 2))\n",
    "print(\"Error:\" + str(1 - scores.mean())+ \"+-\" + str(scores.std() * 2))"
   ]
  },
  {
   "cell_type": "markdown",
   "metadata": {},
   "source": [
    "# Random Forest"
   ]
  },
  {
   "cell_type": "code",
   "execution_count": 67,
   "metadata": {},
   "outputs": [
    {
     "name": "stdout",
     "output_type": "stream",
     "text": [
      "[ 0.87941372  0.88607595  0.87666667  0.864       0.87866667  0.86733333\n",
      "  0.88266667  0.878       0.87991995  0.88125417]\n",
      "Accuracy:0.877399712296+-0.0128322985097\n",
      "Error:0.122600287704+-0.0128322985097\n"
     ]
    }
   ],
   "source": [
    "from sklearn.ensemble import RandomForestClassifier\n",
    "model = RandomForestClassifier(n_estimators=100, max_depth = 20, criterion=\"gini\", n_jobs = 2, oob_score = True)\n",
    "model.fit(X_train, y_train)\n",
    "\n",
    "scores = cross_val_score(model, X, y, cv = 10)\n",
    "print(scores)\n",
    "print(\"Accuracy:\" + str(scores.mean()) +\"+-\" + str(scores.std() * 2))\n",
    "print(\"Error:\" + str(1 - scores.mean())+ \"+-\" + str(scores.std() * 2))"
   ]
  },
  {
   "cell_type": "code",
   "execution_count": null,
   "metadata": {
    "collapsed": true
   },
   "outputs": [],
   "source": []
  }
 ],
 "metadata": {
  "kernelspec": {
   "display_name": "Python 3",
   "language": "python",
   "name": "python3"
  },
  "language_info": {
   "codemirror_mode": {
    "name": "ipython",
    "version": 3
   },
   "file_extension": ".py",
   "mimetype": "text/x-python",
   "name": "python",
   "nbconvert_exporter": "python",
   "pygments_lexer": "ipython3",
   "version": "3.6.1"
  }
 },
 "nbformat": 4,
 "nbformat_minor": 2
}
